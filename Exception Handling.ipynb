{
 "cells": [
  {
   "cell_type": "markdown",
   "metadata": {},
   "source": [
    "# Exception Handling\n"
   ]
  },
  {
   "cell_type": "raw",
   "metadata": {},
   "source": [
    "When an unexpected condition occurs, a function may be unable to return a reasonable value to its caller. \n",
    "In such cases, it may be best for the exceptional condition to either terminate the program while printing a\n",
    "diagnostic error message, or if the programmer has provided code to handle such exceptional circumstances then \n",
    "allow that code to take the appropriate action."
   ]
  },
  {
   "cell_type": "code",
   "execution_count": 2,
   "metadata": {
    "collapsed": true
   },
   "outputs": [],
   "source": [
    "# Built-in Exceptions"
   ]
  },
  {
   "cell_type": "raw",
   "metadata": {},
   "source": [
    "ArgumentError\n",
    "\n",
    "BoundsError\n",
    "\n",
    "CompositeException\n",
    "\n",
    "DivideError\n",
    "\n",
    "DomainError\n",
    "\n",
    "EOFError\n",
    "\n",
    "ErrorException\n",
    "\n",
    "InexactError\n",
    "\n",
    "InitError\n",
    "\n",
    "InterruptException\n",
    "\n",
    "InvalidStateException\n",
    "\n",
    "KeyError\n",
    "\n",
    "LoadError\n",
    "\n",
    "OutOfMemoryError\n",
    "\n",
    "ReadOnlyMemoryError\n",
    "\n",
    "RemoteException\n",
    "\n",
    "MethodError\n",
    "\n",
    "OverflowError\n",
    "\n",
    "Meta.ParseError\n",
    "\n",
    "SystemError\n",
    "\n",
    "TypeError\n",
    "\n",
    "UndefRefError\n",
    "\n",
    "UndefVarError\n",
    "\n",
    "StringIndexError\n"
   ]
  },
  {
   "cell_type": "code",
   "execution_count": 4,
   "metadata": {
    "collapsed": true
   },
   "outputs": [],
   "source": [
    "# Domain Error"
   ]
  },
  {
   "cell_type": "code",
   "execution_count": 5,
   "metadata": {},
   "outputs": [
    {
     "ename": "DomainError",
     "evalue": "DomainError with -1.0:\nsqrt will only return a complex result if called with a complex argument. Try sqrt(Complex(x)).",
     "output_type": "error",
     "traceback": [
      "DomainError with -1.0:\nsqrt will only return a complex result if called with a complex argument. Try sqrt(Complex(x)).",
      "",
      "Stacktrace:",
      " [1] throw_complex_domainerror(::Symbol, ::Float64) at ./math.jl:31",
      " [2] sqrt at ./math.jl:479 [inlined]",
      " [3] sqrt(::Int64) at ./math.jl:505",
      " [4] top-level scope at In[5]:1"
     ]
    }
   ],
   "source": [
    "sqrt(-1) "
   ]
  },
  {
   "cell_type": "code",
   "execution_count": 7,
   "metadata": {},
   "outputs": [
    {
     "ename": "BoundsError",
     "evalue": "BoundsError: attempt to access 4-element Array{Int64,1} at index [10]",
     "output_type": "error",
     "traceback": [
      "BoundsError: attempt to access 4-element Array{Int64,1} at index [10]",
      "",
      "Stacktrace:",
      " [1] getindex(::Array{Int64,1}, ::Int64) at ./array.jl:731",
      " [2] top-level scope at In[7]:5"
     ]
    }
   ],
   "source": [
    "#Bounds Error\n",
    "\n",
    "a=[1,2,3,4]\n",
    "\n",
    "print(a[10])"
   ]
  },
  {
   "cell_type": "raw",
   "metadata": {},
   "source": [
    "For more examples \n",
    "Read Here ==> https://docs.julialang.org/en/v0.7.0/manual/control-flow/"
   ]
  },
  {
   "cell_type": "markdown",
   "metadata": {},
   "source": [
    "### You may define your own exceptions in the following way:"
   ]
  },
  {
   "cell_type": "code",
   "execution_count": 9,
   "metadata": {
    "collapsed": true
   },
   "outputs": [],
   "source": [
    "struct MyCustomException <: Exception end"
   ]
  },
  {
   "cell_type": "code",
   "execution_count": null,
   "metadata": {
    "collapsed": true
   },
   "outputs": [],
   "source": []
  }
 ],
 "metadata": {
  "kernelspec": {
   "display_name": "Julia 1.0.0",
   "language": "julia",
   "name": "julia-1.0"
  },
  "language_info": {
   "file_extension": ".jl",
   "mimetype": "application/julia",
   "name": "julia",
   "version": "1.0.0"
  }
 },
 "nbformat": 4,
 "nbformat_minor": 2
}
