{
 "cells": [
  {
   "cell_type": "raw",
   "metadata": {},
   "source": [
    "Julia provides a variety of control flow constructs:\n",
    "\n",
    "\n",
    "* Compound Expressions: begin and (;).\n",
    "\n",
    "* Conditional Evaluation: if-elseif-else and ?: (ternary operator).\n",
    "\n",
    "* Short-Circuit Evaluation: &&, || and chained comparisons.\n",
    "\n",
    "* Repeated Evaluation: Loops: while and for.\n"
   ]
  },
  {
   "cell_type": "code",
   "execution_count": null,
   "metadata": {
    "collapsed": true
   },
   "outputs": [],
   "source": []
  },
  {
   "cell_type": "markdown",
   "metadata": {},
   "source": [
    "### Compound Expressions"
   ]
  },
  {
   "cell_type": "raw",
   "metadata": {},
   "source": [
    "Sometimes it is convenient to have a single expression which evaluates several subexpressions in order, \n",
    "returning the value of the last subexpression as its value. There are two Julia constructs that accomplish this\n",
    "begin blocks and (;) chains. "
   ]
  },
  {
   "cell_type": "code",
   "execution_count": 1,
   "metadata": {},
   "outputs": [
    {
     "data": {
      "text/plain": [
       "3"
      ]
     },
     "execution_count": 1,
     "metadata": {},
     "output_type": "execute_result"
    }
   ],
   "source": [
    "# Compound Expressions using begin block:\n",
    "\n",
    "z = begin\n",
    "           x = 1\n",
    "           y = 2\n",
    "           x + y\n",
    "    end\n"
   ]
  },
  {
   "cell_type": "code",
   "execution_count": 2,
   "metadata": {},
   "outputs": [
    {
     "data": {
      "text/plain": [
       "3"
      ]
     },
     "execution_count": 2,
     "metadata": {},
     "output_type": "execute_result"
    }
   ],
   "source": [
    "# Compound Expressions using (;)\n",
    "\n",
    "z = (x = 1; y = 2; x + y)"
   ]
  },
  {
   "cell_type": "markdown",
   "metadata": {},
   "source": [
    "## Conditional Evaluation\n"
   ]
  },
  {
   "cell_type": "code",
   "execution_count": 3,
   "metadata": {
    "collapsed": true
   },
   "outputs": [],
   "source": [
    "# if-elseif-else"
   ]
  },
  {
   "cell_type": "code",
   "execution_count": 4,
   "metadata": {},
   "outputs": [
    {
     "name": "stdout",
     "output_type": "stream",
     "text": [
      "x greater than y\n"
     ]
    }
   ],
   "source": [
    "x=10\n",
    "y=0\n",
    "\n",
    "if x>y\n",
    "    println(\"x greater than y\")\n",
    "elseif x<y\n",
    "    println(\"x less than y\")\n",
    "else\n",
    "    println(\"X=Y\")\n",
    "end    "
   ]
  },
  {
   "cell_type": "raw",
   "metadata": {},
   "source": [
    "if blocks also return a value, which may seem unintuitive to users coming from many other languages. \n",
    "This value is simply the return value of the last executed statement in the branch that was chosen,"
   ]
  },
  {
   "cell_type": "code",
   "execution_count": 5,
   "metadata": {},
   "outputs": [
    {
     "data": {
      "text/plain": [
       "\"positive!\""
      ]
     },
     "execution_count": 5,
     "metadata": {},
     "output_type": "execute_result"
    }
   ],
   "source": [
    "if x > 0\n",
    "           \"positive!\"\n",
    "       else\n",
    "           \"negative...\"\n",
    "       end"
   ]
  },
  {
   "cell_type": "raw",
   "metadata": {},
   "source": [
    "Unlike C, MATLAB, Perl, Python, and Ruby – but like Java, and a few other stricter,\n",
    "typed languages – it is an error if the value of a conditional expression is anything but true or false:"
   ]
  },
  {
   "cell_type": "code",
   "execution_count": 6,
   "metadata": {},
   "outputs": [
    {
     "ename": "TypeError",
     "evalue": "TypeError: non-boolean (Int64) used in boolean context",
     "output_type": "error",
     "traceback": [
      "TypeError: non-boolean (Int64) used in boolean context",
      "",
      "Stacktrace:",
      " [1] top-level scope at In[6]:1"
     ]
    }
   ],
   "source": [
    "if 1\n",
    "    println(\"true\")\n",
    "end"
   ]
  },
  {
   "cell_type": "code",
   "execution_count": 7,
   "metadata": {
    "collapsed": true
   },
   "outputs": [],
   "source": [
    "# Ternary operator"
   ]
  },
  {
   "cell_type": "raw",
   "metadata": {},
   "source": [
    "The so-called \"ternary operator\", ?:, is closely related to the if-elseif-else syntax, but is used where a\n",
    "conditional choice between single expression values is required."
   ]
  },
  {
   "cell_type": "raw",
   "metadata": {},
   "source": [
    "a ? b : c"
   ]
  },
  {
   "cell_type": "raw",
   "metadata": {},
   "source": [
    "The expression a, before the ?, is a condition expression, and the ternary operation evaluates the expression b,\n",
    "before the :, if the condition a is true or the expression c, after the :, if it is false. \n",
    "Note that the spaces around ? and : are mandatory: an expression like a?b:c is not a valid \n",
    "ternary expression (but a newline is acceptable after both the ? and the :)."
   ]
  },
  {
   "cell_type": "code",
   "execution_count": 8,
   "metadata": {},
   "outputs": [
    {
     "data": {
      "text/plain": [
       "\"not less than\""
      ]
     },
     "execution_count": 8,
     "metadata": {},
     "output_type": "execute_result"
    }
   ],
   "source": [
    "x < y ? \"less than\" : \"not less than\""
   ]
  },
  {
   "cell_type": "markdown",
   "metadata": {},
   "source": [
    "## Short-Circuit Evaluation\n"
   ]
  },
  {
   "cell_type": "raw",
   "metadata": {},
   "source": [
    "Short-circuit evaluation is quite similar to conditional evaluation. The behavior is found in most imperative\n",
    "programming languages having the && and || boolean operators:"
   ]
  },
  {
   "cell_type": "raw",
   "metadata": {},
   "source": [
    "* In the expression a && b, the subexpression b is only evaluated if a evaluates to true\n",
    "\n",
    "* In the expression a || b, the subexpression b is only evaluated if a evaluates to false."
   ]
  },
  {
   "cell_type": "code",
   "execution_count": 9,
   "metadata": {},
   "outputs": [
    {
     "data": {
      "text/plain": [
       "true"
      ]
     },
     "execution_count": 9,
     "metadata": {},
     "output_type": "execute_result"
    }
   ],
   "source": [
    "true && true"
   ]
  },
  {
   "cell_type": "code",
   "execution_count": 10,
   "metadata": {},
   "outputs": [
    {
     "data": {
      "text/plain": [
       "false"
      ]
     },
     "execution_count": 10,
     "metadata": {},
     "output_type": "execute_result"
    }
   ],
   "source": [
    "true && false"
   ]
  },
  {
   "cell_type": "code",
   "execution_count": 11,
   "metadata": {},
   "outputs": [
    {
     "data": {
      "text/plain": [
       "true"
      ]
     },
     "execution_count": 11,
     "metadata": {},
     "output_type": "execute_result"
    }
   ],
   "source": [
    "true || false"
   ]
  },
  {
   "cell_type": "code",
   "execution_count": 12,
   "metadata": {},
   "outputs": [
    {
     "data": {
      "text/plain": [
       "false"
      ]
     },
     "execution_count": 12,
     "metadata": {},
     "output_type": "execute_result"
    }
   ],
   "source": [
    "false || false"
   ]
  },
  {
   "cell_type": "code",
   "execution_count": 13,
   "metadata": {},
   "outputs": [
    {
     "name": "stdout",
     "output_type": "stream",
     "text": [
      "x is the smallest\n"
     ]
    }
   ],
   "source": [
    "x=10\n",
    "y=20\n",
    "z=15\n",
    "\n",
    "if x>y || x>z\n",
    "    println(\"x is not the smallest\")\n",
    "elseif x>y && x>z\n",
    "    print(\"x is the largest\")\n",
    "else\n",
    "    println(\"x is the smallest\")\n",
    "end "
   ]
  },
  {
   "cell_type": "markdown",
   "metadata": {},
   "source": [
    "## Repeated Evalution"
   ]
  },
  {
   "cell_type": "code",
   "execution_count": 14,
   "metadata": {},
   "outputs": [
    {
     "name": "stdout",
     "output_type": "stream",
     "text": [
      "0\n",
      "1\n",
      "2\n",
      "3\n",
      "4\n",
      "5\n"
     ]
    }
   ],
   "source": [
    "# while loop\n",
    "\n",
    "i=0\n",
    "while i <= 5\n",
    "      println(i)\n",
    "      global i += 1\n",
    "end"
   ]
  },
  {
   "cell_type": "raw",
   "metadata": {},
   "source": [
    "The while loop evaluates the condition expression (i <= 5 in this case), and as long it remains true,\n",
    "keeps also evaluating the body of the while loop. If the condition expression is false when the while\n",
    "loop is first reached, the body is never evaluated."
   ]
  },
  {
   "cell_type": "code",
   "execution_count": 15,
   "metadata": {
    "collapsed": true
   },
   "outputs": [],
   "source": [
    "#For Loop"
   ]
  },
  {
   "cell_type": "code",
   "execution_count": 16,
   "metadata": {},
   "outputs": [
    {
     "name": "stdout",
     "output_type": "stream",
     "text": [
      "1\n",
      "2\n",
      "3\n",
      "4\n",
      "5\n"
     ]
    }
   ],
   "source": [
    "for i=1:5\n",
    "    println(i)\n",
    "end    "
   ]
  },
  {
   "cell_type": "code",
   "execution_count": 17,
   "metadata": {},
   "outputs": [
    {
     "name": "stdout",
     "output_type": "stream",
     "text": [
      "1\n",
      "4\n",
      "0\n"
     ]
    }
   ],
   "source": [
    "for i in [1,4,0]\n",
    "     println(i)\n",
    "end"
   ]
  },
  {
   "cell_type": "raw",
   "metadata": {},
   "source": [
    "It is sometimes convenient to terminate the repetition of a while before the test condition is \n",
    "falsified or stop iterating in a for loop before the end of the iterable object is reached. \n",
    "This can be accomplished with the break keyword:"
   ]
  },
  {
   "cell_type": "code",
   "execution_count": 18,
   "metadata": {},
   "outputs": [
    {
     "name": "stdout",
     "output_type": "stream",
     "text": [
      "6\n"
     ]
    }
   ],
   "source": [
    "while true\n",
    "        println(i)\n",
    "        if i >= 5\n",
    "            break\n",
    "        end\n",
    "        global i += 1\n",
    "    end"
   ]
  },
  {
   "cell_type": "code",
   "execution_count": 19,
   "metadata": {
    "collapsed": true
   },
   "outputs": [],
   "source": [
    "#Multiple nested for loops can be combined into a single outer loop, \n",
    "#forming the cartesian product of its iterables:"
   ]
  },
  {
   "cell_type": "code",
   "execution_count": 20,
   "metadata": {},
   "outputs": [
    {
     "name": "stdout",
     "output_type": "stream",
     "text": [
      "(1, 5)\n",
      "(1, 6)\n",
      "(1, 7)\n",
      "(1, 8)\n",
      "(2, 5)\n",
      "(2, 6)\n",
      "(2, 7)\n",
      "(2, 8)\n",
      "(3, 5)\n",
      "(3, 6)\n",
      "(3, 7)\n",
      "(3, 8)\n"
     ]
    }
   ],
   "source": [
    "for i=1:3,j=5:8\n",
    "    println((i,j))\n",
    "end    "
   ]
  },
  {
   "cell_type": "code",
   "execution_count": null,
   "metadata": {
    "collapsed": true
   },
   "outputs": [],
   "source": []
  },
  {
   "cell_type": "code",
   "execution_count": null,
   "metadata": {
    "collapsed": true
   },
   "outputs": [],
   "source": []
  }
 ],
 "metadata": {
  "kernelspec": {
   "display_name": "Julia 1.0.0",
   "language": "julia",
   "name": "julia-1.0"
  },
  "language_info": {
   "file_extension": ".jl",
   "mimetype": "application/julia",
   "name": "julia",
   "version": "1.0.0"
  }
 },
 "nbformat": 4,
 "nbformat_minor": 2
}
